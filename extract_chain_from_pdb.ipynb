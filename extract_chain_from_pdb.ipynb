{
 "cells": [
  {
   "cell_type": "code",
   "execution_count": 5,
   "metadata": {},
   "outputs": [],
   "source": [
    "from bs4 import BeautifulSoup\n",
    "import requests\n",
    "import re\n",
    "from pymol import cmd"
   ]
  },
  {
   "cell_type": "code",
   "execution_count": 6,
   "metadata": {},
   "outputs": [],
   "source": [
    "#response object\n",
    "source=requests.get(\"https://www.rcsb.org/structure/6U42\").text\n",
    "soup = BeautifulSoup(source,'lxml')"
   ]
  },
  {
   "cell_type": "code",
   "execution_count": 7,
   "metadata": {},
   "outputs": [],
   "source": [
    "protein_list=[]\n",
    "MacromolecularTable=soup.find(id=\"MacromoleculeTable\")#.prettify()\n",
    "\n",
    "for phtml in MacromolecularTable.find_all(id=re.compile(\"^macro*\")):\n",
    "    prot=phtml.td.text\n",
    "    j=phtml.find('div',class_=\"ellipsisToolTip\").text\n",
    "    j=j.replace(\",\",\"\")\n",
    "    chains=j.split()\n",
    "    protein_list.append((prot,chains))"
   ]
  },
  {
   "cell_type": "code",
   "execution_count": 15,
   "metadata": {},
   "outputs": [
    {
     "name": "stdout",
     "output_type": "stream",
     "text": [
      "Tubulin beta\n",
      "Tubulin alpha\n",
      "PACRG\n",
      "FAP20\n",
      "FAP53\n",
      "FAP127\n",
      "RIB43a\n",
      "FAP112\n",
      "FAP210\n",
      "FAP45\n",
      "RIB30\n",
      "FAP363\n",
      "FAP126\n",
      "FAP52\n",
      "FAP67\n",
      "FAP85\n",
      "FAP106\n",
      "FAP115\n",
      "FAP143\n",
      "FAP161\n",
      "FAP166\n",
      "FAP252\n",
      "FAP276\n",
      "RIB72\n",
      "FAP141\n",
      "FAP222\n",
      "FAP95\n",
      "FAP182\n",
      "FAP129\n",
      "FAP21\n",
      "FAP273\n",
      "FAP107\n",
      "RIB21\n",
      "DC1\n",
      "DC2\n",
      "DC3\n",
      "FAP68\n",
      "FAP90\n"
     ]
    }
   ],
   "source": [
    "#Using pymol load the protein\n",
    "cmd.load(\"6u42.cif\")\n",
    "list_of_largest=[]\n",
    "\n",
    "for pc in protein_list:\n",
    "    print(pc[0])\n",
    "    most_atoms=0\n",
    "    big_chain=\"\"\n",
    "    for c in pc[1]:\n",
    "        #print(c)\n",
    "        try:\n",
    "            cmd.create(name=f\"{c}\",selection=f\"chain {c}\")\n",
    "            atoms = cmd.count_atoms(f\"{c}\")\n",
    "            if most_atoms < atoms:\n",
    "                most_atoms=atoms\n",
    "                big_chain=c\n",
    "        except:\n",
    "            print(\"error\")\n",
    "            \n",
    "    cmd.save(f\"{pc[0]}.pdb\",big_chain)\n",
    "    \n",
    "    list_of_largest.append((pc[0],big_chain,most_atoms))\n"
   ]
  },
  {
   "cell_type": "code",
   "execution_count": 12,
   "metadata": {},
   "outputs": [
    {
     "data": {
      "text/plain": [
       "[('FAP127', '4O', 4025), ('RIB43a', '4R', 2985)]"
      ]
     },
     "execution_count": 12,
     "metadata": {},
     "output_type": "execute_result"
    }
   ],
   "source": [
    "list_of_largest"
   ]
  },
  {
   "cell_type": "code",
   "execution_count": null,
   "metadata": {},
   "outputs": [],
   "source": [
    ">>> cmd.create(\"josh\",\"chain 0A\",source_state=-1)\n",
    ">>> cmd.save(\"test.pdb\",\"josh\")\n",
    ">>> cmd.count_atoms(\"josh\")"
   ]
  }
 ],
 "metadata": {
  "kernelspec": {
   "display_name": "pymol-env",
   "language": "python",
   "name": "pymol-env"
  },
  "language_info": {
   "codemirror_mode": {
    "name": "ipython",
    "version": 3
   },
   "file_extension": ".py",
   "mimetype": "text/x-python",
   "name": "python",
   "nbconvert_exporter": "python",
   "pygments_lexer": "ipython3",
   "version": "3.7.7"
  }
 },
 "nbformat": 4,
 "nbformat_minor": 4
}
