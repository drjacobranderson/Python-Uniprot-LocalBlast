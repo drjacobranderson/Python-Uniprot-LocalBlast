{
 "cells": [
  {
   "cell_type": "code",
   "execution_count": 1,
   "metadata": {},
   "outputs": [],
   "source": [
    "import pandas as pd\n",
    "from Bio.Blast import NCBIWWW\n",
    "from Bio.Blast.Applications import NcbiblastxCommandline"
   ]
  },
  {
   "cell_type": "code",
   "execution_count": 94,
   "metadata": {
    "scrolled": true
   },
   "outputs": [
    {
     "data": {
      "text/html": [
       "<div>\n",
       "<style scoped>\n",
       "    .dataframe tbody tr th:only-of-type {\n",
       "        vertical-align: middle;\n",
       "    }\n",
       "\n",
       "    .dataframe tbody tr th {\n",
       "        vertical-align: top;\n",
       "    }\n",
       "\n",
       "    .dataframe thead th {\n",
       "        text-align: right;\n",
       "    }\n",
       "</style>\n",
       "<table border=\"1\" class=\"dataframe\">\n",
       "  <thead>\n",
       "    <tr style=\"text-align: right;\">\n",
       "      <th></th>\n",
       "      <th>Unnamed: 0</th>\n",
       "      <th>Unique</th>\n",
       "      <th>Total</th>\n",
       "      <th>reference</th>\n",
       "      <th>Gene Symbol</th>\n",
       "      <th>MWT(kDa)</th>\n",
       "      <th>AVG</th>\n",
       "      <th>Bovine_Seq</th>\n",
       "      <th>%identity_with_chlammy</th>\n",
       "    </tr>\n",
       "  </thead>\n",
       "  <tbody>\n",
       "    <tr>\n",
       "      <th>0</th>\n",
       "      <td>0</td>\n",
       "      <td>133</td>\n",
       "      <td>154</td>\n",
       "      <td>tr|A0A3Q1NE82|A0A3Q1NE82_BOVIN</td>\n",
       "      <td>AHNAK</td>\n",
       "      <td>614.26</td>\n",
       "      <td>3.1225</td>\n",
       "      <td>MEKEEETTRELLLPNWQGSGSHGLTITQRDDGVFVQEVMQNSPAAR...</td>\n",
       "      <td>0.000</td>\n",
       "    </tr>\n",
       "    <tr>\n",
       "      <th>1</th>\n",
       "      <td>1</td>\n",
       "      <td>7</td>\n",
       "      <td>109</td>\n",
       "      <td>sp|Q3MHM5|TBB4B_BOVIN</td>\n",
       "      <td>TUBB4B</td>\n",
       "      <td>49.80</td>\n",
       "      <td>3.3008</td>\n",
       "      <td>MREIVHLQAGQCGNQIGAKFWEVISDEHGIDPTGTYHGDSDLQLER...</td>\n",
       "      <td>90.465</td>\n",
       "    </tr>\n",
       "    <tr>\n",
       "      <th>2</th>\n",
       "      <td>2</td>\n",
       "      <td>13</td>\n",
       "      <td>101</td>\n",
       "      <td>sp|Q2T9S0|TBB3_BOVIN</td>\n",
       "      <td>TUBB3</td>\n",
       "      <td>50.40</td>\n",
       "      <td>3.3130</td>\n",
       "      <td>MREIVHIQAGQCGNQIGAKFWEVISDEHGIDPSGNYVGDSDLQLER...</td>\n",
       "      <td>85.581</td>\n",
       "    </tr>\n",
       "    <tr>\n",
       "      <th>3</th>\n",
       "      <td>3</td>\n",
       "      <td>62</td>\n",
       "      <td>98</td>\n",
       "      <td>tr|A0A3Q1M0Y8|A0A3Q1M0Y8_BOVIN</td>\n",
       "      <td>CROCC2</td>\n",
       "      <td>169.52</td>\n",
       "      <td>3.1375</td>\n",
       "      <td>MDLEDALGRLEAAEQRSTSLSQVNALLREQLEQLRKAHDRLAEELA...</td>\n",
       "      <td>0.000</td>\n",
       "    </tr>\n",
       "    <tr>\n",
       "      <th>4</th>\n",
       "      <td>4</td>\n",
       "      <td>16</td>\n",
       "      <td>91</td>\n",
       "      <td>tr|F6RP72|F6RP72_BOVIN</td>\n",
       "      <td>LOC100295712; tubulin alpha chain</td>\n",
       "      <td>50.85</td>\n",
       "      <td>3.0554</td>\n",
       "      <td>MPHSLLCFQRECISIHVGQAGVQIGNACWELYCLEHGIQPDGQMPS...</td>\n",
       "      <td>87.097</td>\n",
       "    </tr>\n",
       "    <tr>\n",
       "      <th>5</th>\n",
       "      <td>5</td>\n",
       "      <td>80</td>\n",
       "      <td>88</td>\n",
       "      <td>tr|F1MMQ8|F1MMQ8_BOVIN</td>\n",
       "      <td>SPTA1</td>\n",
       "      <td>280.78</td>\n",
       "      <td>3.3721</td>\n",
       "      <td>MESDGPEVLETAEEIQARRQEVLSRYQRFKERVAERGQKLEDSYHY...</td>\n",
       "      <td>0.000</td>\n",
       "    </tr>\n",
       "    <tr>\n",
       "      <th>6</th>\n",
       "      <td>6</td>\n",
       "      <td>71</td>\n",
       "      <td>84</td>\n",
       "      <td>tr|F1MKE9|F1MKE9_BOVIN</td>\n",
       "      <td>SPTB</td>\n",
       "      <td>268.25</td>\n",
       "      <td>3.5225</td>\n",
       "      <td>MTSATEFENVGNQPPYSRINARWDGPDDELDNDNSSARLFERSRIK...</td>\n",
       "      <td>0.000</td>\n",
       "    </tr>\n",
       "    <tr>\n",
       "      <th>7</th>\n",
       "      <td>7</td>\n",
       "      <td>18</td>\n",
       "      <td>83</td>\n",
       "      <td>tr|A0A452DIL8|A0A452DIL8_BOVIN</td>\n",
       "      <td>TUBB2B</td>\n",
       "      <td>49.94</td>\n",
       "      <td>3.7333</td>\n",
       "      <td>MREIVHIQAGQCGNQIGAKFWEVISDEHGIDPTGSYHGDSDLQLER...</td>\n",
       "      <td>89.767</td>\n",
       "    </tr>\n",
       "    <tr>\n",
       "      <th>8</th>\n",
       "      <td>8</td>\n",
       "      <td>27</td>\n",
       "      <td>75</td>\n",
       "      <td>tr|Q58DT9|Q58DT9_BOVIN</td>\n",
       "      <td>ACTA2</td>\n",
       "      <td>45.19</td>\n",
       "      <td>2.7932</td>\n",
       "      <td>MCEEEDSTALVCDNGSGLCKAGFAGDDAPRAVFPSIVGRPRHQGVM...</td>\n",
       "      <td>87.870</td>\n",
       "    </tr>\n",
       "    <tr>\n",
       "      <th>9</th>\n",
       "      <td>9</td>\n",
       "      <td>68</td>\n",
       "      <td>72</td>\n",
       "      <td>tr|A0A3Q1MRS3|A0A3Q1MRS3_BOVIN</td>\n",
       "      <td>PLEC</td>\n",
       "      <td>535.22</td>\n",
       "      <td>2.9450</td>\n",
       "      <td>MVAGMFMPLDQLRAIYEVLFREGVMVAKKDRRPRSLHPHVPGVTNL...</td>\n",
       "      <td>49.533</td>\n",
       "    </tr>\n",
       "  </tbody>\n",
       "</table>\n",
       "</div>"
      ],
      "text/plain": [
       "   Unnamed: 0  Unique  Total                       reference  \\\n",
       "0           0     133    154  tr|A0A3Q1NE82|A0A3Q1NE82_BOVIN   \n",
       "1           1       7    109           sp|Q3MHM5|TBB4B_BOVIN   \n",
       "2           2      13    101            sp|Q2T9S0|TBB3_BOVIN   \n",
       "3           3      62     98  tr|A0A3Q1M0Y8|A0A3Q1M0Y8_BOVIN   \n",
       "4           4      16     91          tr|F6RP72|F6RP72_BOVIN   \n",
       "5           5      80     88          tr|F1MMQ8|F1MMQ8_BOVIN   \n",
       "6           6      71     84          tr|F1MKE9|F1MKE9_BOVIN   \n",
       "7           7      18     83  tr|A0A452DIL8|A0A452DIL8_BOVIN   \n",
       "8           8      27     75          tr|Q58DT9|Q58DT9_BOVIN   \n",
       "9           9      68     72  tr|A0A3Q1MRS3|A0A3Q1MRS3_BOVIN   \n",
       "\n",
       "                         Gene Symbol  MWT(kDa)     AVG  \\\n",
       "0                              AHNAK    614.26  3.1225   \n",
       "1                             TUBB4B     49.80  3.3008   \n",
       "2                              TUBB3     50.40  3.3130   \n",
       "3                             CROCC2    169.52  3.1375   \n",
       "4  LOC100295712; tubulin alpha chain     50.85  3.0554   \n",
       "5                              SPTA1    280.78  3.3721   \n",
       "6                               SPTB    268.25  3.5225   \n",
       "7                             TUBB2B     49.94  3.7333   \n",
       "8                              ACTA2     45.19  2.7932   \n",
       "9                               PLEC    535.22  2.9450   \n",
       "\n",
       "                                          Bovine_Seq  %identity_with_chlammy  \n",
       "0  MEKEEETTRELLLPNWQGSGSHGLTITQRDDGVFVQEVMQNSPAAR...                   0.000  \n",
       "1  MREIVHLQAGQCGNQIGAKFWEVISDEHGIDPTGTYHGDSDLQLER...                  90.465  \n",
       "2  MREIVHIQAGQCGNQIGAKFWEVISDEHGIDPSGNYVGDSDLQLER...                  85.581  \n",
       "3  MDLEDALGRLEAAEQRSTSLSQVNALLREQLEQLRKAHDRLAEELA...                   0.000  \n",
       "4  MPHSLLCFQRECISIHVGQAGVQIGNACWELYCLEHGIQPDGQMPS...                  87.097  \n",
       "5  MESDGPEVLETAEEIQARRQEVLSRYQRFKERVAERGQKLEDSYHY...                   0.000  \n",
       "6  MTSATEFENVGNQPPYSRINARWDGPDDELDNDNSSARLFERSRIK...                   0.000  \n",
       "7  MREIVHIQAGQCGNQIGAKFWEVISDEHGIDPTGSYHGDSDLQLER...                  89.767  \n",
       "8  MCEEEDSTALVCDNGSGLCKAGFAGDDAPRAVFPSIVGRPRHQGVM...                  87.870  \n",
       "9  MVAGMFMPLDQLRAIYEVLFREGVMVAKKDRRPRSLHPHVPGVTNL...                  49.533  "
      ]
     },
     "execution_count": 94,
     "metadata": {},
     "output_type": "execute_result"
    }
   ],
   "source": [
    "import pandas as pd\n",
    "\n",
    "bovine_ms_aa= pd.read_csv(\"MS_Data_with_percent_homology.csv\")\n",
    "bovine_ms_aa.head(10)"
   ]
  },
  {
   "cell_type": "code",
   "execution_count": 95,
   "metadata": {},
   "outputs": [],
   "source": [
    "chlammy_seq_match=[]\n",
    "\n",
    "for n in range(bovine_ms_aa.shape[0]):\n",
    "    with open(\"test.txt\",'w') as f:\n",
    "        f.write(bovine_ms_aa[\"Bovine_Seq\"][n])\n",
    "\n",
    "    blastx_cline = NcbiblastxCommandline(cmd=\"blastp\",query=\"test.txt\", db=\"Chlammy_seqs.fasta\", evalue=0.001,outfmt=6)\n",
    "    J=blastx_cline()\n",
    "    J=J[0].split(\"\\n\")\n",
    "    try:\n",
    "        chlammy_seq_match.append(J[0].split(\"\\t\")[1])\n",
    "    except:\n",
    "        chlammy_seq_match.append(0)"
   ]
  },
  {
   "cell_type": "code",
   "execution_count": 96,
   "metadata": {},
   "outputs": [],
   "source": [
    "bovine_ms_aa['ChlammySeqName']=chlammy_seq_match"
   ]
  },
  {
   "cell_type": "markdown",
   "metadata": {},
   "source": [
    "Apparently when I saved the dataframe as a csv I did not use the argument to not include an index. Ill drop that here."
   ]
  },
  {
   "cell_type": "code",
   "execution_count": 97,
   "metadata": {},
   "outputs": [],
   "source": [
    "bovine_ms_aa=bovine_ms_aa.drop([\"Unnamed: 0\"],axis=1)"
   ]
  },
  {
   "cell_type": "markdown",
   "metadata": {},
   "source": [
    "Some functions to programatically access the Uniprot database"
   ]
  },
  {
   "cell_type": "code",
   "execution_count": 98,
   "metadata": {},
   "outputs": [],
   "source": [
    "import urllib.parse\n",
    "import urllib.request\n",
    "\n",
    "def req_uniport(gene):\n",
    "    #Specify the database to query - we are just quering the general protein database\n",
    "    url = 'https://www.uniprot.org/uniprot/'\n",
    "\n",
    "    #entering the parameters we care about\n",
    "    params= {\n",
    "        'query':gene,\n",
    "        'format':'fasta'\n",
    "    }\n",
    "\n",
    "    data=urllib.parse.urlencode(params)\n",
    "    data = data.encode('utf-8')\n",
    "    req = urllib.request.Request(url,data)\n",
    "    \n",
    "    return req\n",
    "\n",
    "def decode_uniport(req):\n",
    "    with urllib.request.urlopen(req) as f:\n",
    "        response = f.read()\n",
    "        response = response.decode('utf-8')\n",
    "    \n",
    "    return response\n",
    "\n",
    "def from_response_get_aaonly(response):\n",
    "    start = int(0)\n",
    "\n",
    "    for n_line, i in enumerate(response.split()):\n",
    "        if i[:2] == \"SV\":\n",
    "            start=n_line\n",
    "            break\n",
    "    return \"\".join(response.split()[n_line+1:])\n",
    "\n",
    "    \n",
    "def get_uniprot_aa_seq(gene):\n",
    "    request=req_uniport(gene)\n",
    "    response=decode_uniport(request)\n",
    "    seq=from_response_get_aaonly(response)\n",
    "    return seq\n",
    "    "
   ]
  },
  {
   "cell_type": "code",
   "execution_count": 99,
   "metadata": {},
   "outputs": [],
   "source": [
    "gene_names=[]\n",
    "for k,i in enumerate(bovine_ms_aa['ChlammySeqName']):\n",
    "    c=0\n",
    "    if i == 0:\n",
    "        gene_names.append(0)\n",
    "        continue\n",
    "    fasta=decode_uniport(req_uniport(i))\n",
    "    for block in fasta.split():\n",
    "        if \"GN=\" in block:\n",
    "            gene_names.append(block[3:])\n",
    "            c=1\n",
    "            break\n",
    "    \n",
    "    if c==0:\n",
    "        try:\n",
    "            gene_names.append(\"_\".join(fasta.split()[0].split(\"|\")[1:3]))\n",
    "        except:\n",
    "            gene_names.append(\"Seq not in Uniprot\")\n",
    "        "
   ]
  },
  {
   "cell_type": "markdown",
   "metadata": {},
   "source": [
    "Just want to change around the columns"
   ]
  },
  {
   "cell_type": "code",
   "execution_count": 100,
   "metadata": {},
   "outputs": [],
   "source": [
    "bovine_ms_aa['Chlammy_GeneName']=gene_names"
   ]
  },
  {
   "cell_type": "code",
   "execution_count": 104,
   "metadata": {},
   "outputs": [
    {
     "data": {
      "text/plain": [
       "['Unique',\n",
       " 'Total',\n",
       " 'reference',\n",
       " 'Gene Symbol',\n",
       " 'MWT(kDa)',\n",
       " 'AVG',\n",
       " 'Bovine_Seq',\n",
       " '%identity_with_chlammy',\n",
       " 'ChlammySeqName',\n",
       " 'Chlammy_GeneName']"
      ]
     },
     "execution_count": 104,
     "metadata": {},
     "output_type": "execute_result"
    }
   ],
   "source": [
    "bovine_ms_aa.columns.tolist()"
   ]
  },
  {
   "cell_type": "code",
   "execution_count": 107,
   "metadata": {},
   "outputs": [],
   "source": [
    "new_order=['Unique',\n",
    " 'Total',\n",
    " 'reference',\n",
    " 'Gene Symbol',\n",
    " 'Chlammy_GeneName',\n",
    " 'MWT(kDa)',\n",
    " 'AVG',\n",
    " 'Bovine_Seq',\n",
    " '%identity_with_chlammy',\n",
    " 'ChlammySeqName']"
   ]
  },
  {
   "cell_type": "code",
   "execution_count": 110,
   "metadata": {},
   "outputs": [],
   "source": [
    "bovine_ms_aa=bovine_ms_aa[new_order]"
   ]
  },
  {
   "cell_type": "code",
   "execution_count": null,
   "metadata": {},
   "outputs": [],
   "source": [
    "bovine_ms_aa.to_csv(\"MS_HomologyANDChlammyName.csv\",index=False)"
   ]
  },
  {
   "cell_type": "markdown",
   "metadata": {},
   "source": [
    "Apparently some sequences are not reconized in the Uniprot database. This is an example where a sequence was found, but the uniprot did not have the sequence. Perhaps I could \"unbreak\" this by not just dumbly taking the top sequence hit from the blast?"
   ]
  },
  {
   "cell_type": "code",
   "execution_count": 82,
   "metadata": {},
   "outputs": [
    {
     "data": {
      "text/html": [
       "<div>\n",
       "<style scoped>\n",
       "    .dataframe tbody tr th:only-of-type {\n",
       "        vertical-align: middle;\n",
       "    }\n",
       "\n",
       "    .dataframe tbody tr th {\n",
       "        vertical-align: top;\n",
       "    }\n",
       "\n",
       "    .dataframe thead th {\n",
       "        text-align: right;\n",
       "    }\n",
       "</style>\n",
       "<table border=\"1\" class=\"dataframe\">\n",
       "  <thead>\n",
       "    <tr style=\"text-align: right;\">\n",
       "      <th></th>\n",
       "      <th>Unique</th>\n",
       "      <th>Total</th>\n",
       "      <th>reference</th>\n",
       "      <th>Gene Symbol</th>\n",
       "      <th>MWT(kDa)</th>\n",
       "      <th>AVG</th>\n",
       "      <th>Bovine_Seq</th>\n",
       "      <th>%identity_with_chlammy</th>\n",
       "      <th>ChlammySeqName</th>\n",
       "    </tr>\n",
       "  </thead>\n",
       "  <tbody>\n",
       "    <tr>\n",
       "      <th>121</th>\n",
       "      <td>9</td>\n",
       "      <td>11</td>\n",
       "      <td>sp|P68432|H31_BOVIN</td>\n",
       "      <td>Histone H3.1</td>\n",
       "      <td>15.39</td>\n",
       "      <td>2.2491</td>\n",
       "      <td>MARTKQTARKSTGGKAPRKQLATKAARKSAPATGGVKKPHRYRPGT...</td>\n",
       "      <td>95.588</td>\n",
       "      <td>S59581</td>\n",
       "    </tr>\n",
       "  </tbody>\n",
       "</table>\n",
       "</div>"
      ],
      "text/plain": [
       "     Unique  Total            reference   Gene Symbol  MWT(kDa)     AVG  \\\n",
       "121       9     11  sp|P68432|H31_BOVIN  Histone H3.1     15.39  2.2491   \n",
       "\n",
       "                                            Bovine_Seq  \\\n",
       "121  MARTKQTARKSTGGKAPRKQLATKAARKSAPATGGVKKPHRYRPGT...   \n",
       "\n",
       "     %identity_with_chlammy ChlammySeqName  \n",
       "121                  95.588         S59581  "
      ]
     },
     "execution_count": 82,
     "metadata": {},
     "output_type": "execute_result"
    }
   ],
   "source": [
    "bovine_ms_aa.loc[[121]]"
   ]
  },
  {
   "cell_type": "code",
   "execution_count": null,
   "metadata": {},
   "outputs": [],
   "source": []
  }
 ],
 "metadata": {
  "kernelspec": {
   "display_name": "data-env",
   "language": "python",
   "name": "data-env"
  },
  "language_info": {
   "codemirror_mode": {
    "name": "ipython",
    "version": 3
   },
   "file_extension": ".py",
   "mimetype": "text/x-python",
   "name": "python",
   "nbconvert_exporter": "python",
   "pygments_lexer": "ipython3",
   "version": "3.8.2"
  }
 },
 "nbformat": 4,
 "nbformat_minor": 4
}
